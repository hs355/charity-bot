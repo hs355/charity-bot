{
 "cells": [
  {
   "cell_type": "markdown",
   "metadata": {},
   "source": [
    "###In this notebook: Extract some further details (e.g. ratings and scores) from Charity Navigator (local) pages. \n",
    "###Create a unified dictionary with all information on charities: Name, URL, Location, Mission Statement, Ratings"
   ]
  },
  {
   "cell_type": "code",
   "execution_count": 135,
   "metadata": {},
   "outputs": [],
   "source": [
    "import os\n",
    "import pickle\n",
    "\n",
    "from bs4 import BeautifulSoup\n",
    "from collections import defaultdict"
   ]
  },
  {
   "cell_type": "code",
   "execution_count": 62,
   "metadata": {},
   "outputs": [],
   "source": [
    "directory = \"...\"\n",
    "alerts_charities2exclude = []\n",
    "orgID_ScoreStars = {}\n",
    "\n",
    "for filename in os.listdir(directory):\n",
    "    if filename.endswith(\".html\"):\n",
    "        \n",
    "        orgID = filename.split(\".\")[0]\n",
    "              \n",
    "        filepath = os.path.join(directory, filename)\n",
    "        \n",
    "        with open(filepath, \"r\") as f:\n",
    "            data = f.read()\n",
    "            soup = BeautifulSoup(data)\n",
    "\n",
    "        \n",
    "        try:\n",
    "            #Already collected below, not necessary to collect again\n",
    "            #charityName = soup.find(\"h1\", {\"class\": \"charityname\"})\n",
    "            #tagLine = soup.find(\"h2\", {\"class\": \"tagline\"})    \n",
    "\n",
    "            rating_wrapper = soup.find(\"div\", {\"class\": \"rating-wrapper\"})\n",
    "            summaryBox = rating_wrapper.find(\"div\", {\"class\": \"summaryBox\"})\n",
    "\n",
    "            score = summaryBox.find(\"td\", {\"align\": \"center\"})\n",
    "            stars = soup.find(\"svg\", {\"class\": \"stars\"})\n",
    "        \n",
    "            orgID_ScoreStars[orgID] = [score.text, stars.text]\n",
    "            \n",
    "        except:\n",
    "            #Exception occurs when Charity has a warning and missing fields like mission statement\n",
    "            alerts_charities2exclude.append(charityNumber)\n",
    "            with open(\"exception.txt\", \"a\") as wf:\n",
    "                wf.write(str(charityNumber) + \" returned exception\" + \"\\n\")\n",
    "            \n",
    "    else:\n",
    "        pass\n"
   ]
  },
  {
   "cell_type": "markdown",
   "metadata": {},
   "source": [
    "###Load previously saved dictionaries from pickles"
   ]
  },
  {
   "cell_type": "code",
   "execution_count": null,
   "metadata": {},
   "outputs": [],
   "source": [
    "with open('orgID_missionDict.pickle', 'rb') as handle1:\n",
    "    orgID_missionDict = pickle.load(handle1)\n",
    "    \n",
    "with open('orgID_websiteDict.pickle', 'rb') as handle2:\n",
    "    orgID_websiteDict = pickle.load(handle2)\n",
    "    \n",
    "with open('orgID_Name.pickle', 'rb') as handle3:\n",
    "    orgID_Name = pickle.load(handle3)\n",
    "    \n",
    "with open('orgID_State.pickle', 'wb') as handle:\n",
    "    pickle.dump(orgID_State, handle, protocol=pickle.HIGHEST_PROTOCOL)"
   ]
  },
  {
   "cell_type": "code",
   "execution_count": 139,
   "metadata": {},
   "outputs": [],
   "source": [
    "#Combine all dictionaries\n",
    "all_Combined = defaultdict(list)\n",
    "\n",
    "for d in (orgID_Name, orgID_State,orgID_websiteDict,orgID_missionDict,orgID_ScoreStars):\n",
    "    for key, value in d.items():\n",
    "        all_Combined[key].append(value)\n",
    "        \n",
    "all_Combined_Dict = dict(all_Combined)"
   ]
  },
  {
   "cell_type": "code",
   "execution_count": 211,
   "metadata": {},
   "outputs": [],
   "source": [
    "#Remove entries that are missing mission statement or scores\n",
    "keys2remove = []\n",
    "\n",
    "for key, value in all_Combined_Dict.items():\n",
    "    if len(value) < 5:\n",
    "        keys2remove.append(key)"
   ]
  },
  {
   "cell_type": "code",
   "execution_count": null,
   "metadata": {},
   "outputs": [],
   "source": [
    "for k in keys2remove:\n",
    "    del all_Combined_Dict[k]"
   ]
  },
  {
   "cell_type": "code",
   "execution_count": 217,
   "metadata": {},
   "outputs": [],
   "source": [
    "with open('all_Combined_Cleaned.pickle', 'wb') as handle:\n",
    "    pickle.dump(all_Combined_Dict, handle, protocol=pickle.HIGHEST_PROTOCOL)"
   ]
  },
  {
   "cell_type": "code",
   "execution_count": 234,
   "metadata": {},
   "outputs": [],
   "source": [
    "#Remove entries that have a less than 3 star rating\n",
    "keys2remove_4ratings = []\n",
    "for k,v in all_Combined_Dict.items():\n",
    "    if float(v[4][0]) < 80.0:\n",
    "        keys2remove_4ratings.append(k)"
   ]
  },
  {
   "cell_type": "code",
   "execution_count": 236,
   "metadata": {},
   "outputs": [],
   "source": [
    "for k in keys2remove_4ratings:\n",
    "    del all_Combined_Dict[k]"
   ]
  },
  {
   "cell_type": "code",
   "execution_count": 238,
   "metadata": {},
   "outputs": [],
   "source": [
    "with open('all_Combined_Cleaned_Ratings_Selection.pickle', 'wb') as handle:\n",
    "    pickle.dump(all_Combined_Dict, handle, protocol=pickle.HIGHEST_PROTOCOL)"
   ]
  }
 ],
 "metadata": {
  "kernelspec": {
   "display_name": "Python 3",
   "language": "python",
   "name": "python3"
  },
  "language_info": {
   "codemirror_mode": {
    "name": "ipython",
    "version": 3
   },
   "file_extension": ".py",
   "mimetype": "text/x-python",
   "name": "python",
   "nbconvert_exporter": "python",
   "pygments_lexer": "ipython3",
   "version": "3.7.7"
  }
 },
 "nbformat": 4,
 "nbformat_minor": 4
}
