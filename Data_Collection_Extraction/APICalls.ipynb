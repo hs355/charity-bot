{
 "cells": [
  {
   "cell_type": "markdown",
   "metadata": {},
   "source": [
    "##API Calls - Return JSON Files"
   ]
  },
  {
   "cell_type": "code",
   "execution_count": 5,
   "metadata": {},
   "outputs": [],
   "source": [
    "#Call for Search Term \"Charity\" for Ten Year Period by Subreddit\n",
    "#https://api.pushshift.io/reddit/search/comment/?q=charity&after=10y&aggs=subreddit&size=0"
   ]
  },
  {
   "cell_type": "code",
   "execution_count": 6,
   "metadata": {},
   "outputs": [],
   "source": [
    "#Call for Search Term \"Donate\" or \"Donation\" for Ten Year Period by Subreddit\n",
    "#https://api.pushshift.io/reddit/search/comment/?q=donate|donation&after=10y&aggs=subreddit&size=0"
   ]
  },
  {
   "cell_type": "code",
   "execution_count": 7,
   "metadata": {},
   "outputs": [],
   "source": [
    "#Call for \"Charity\" Frequency by Month over 2018\n",
    "#https://api.pushshift.io/reddit/search/comment/?q=charity&after=2018-01-01&before=2018-12-31&aggs=created_utc&frequency=month&size=0"
   ]
  },
  {
   "cell_type": "code",
   "execution_count": null,
   "metadata": {},
   "outputs": [],
   "source": [
    "\"\"\"\n",
    "#For Larger Volumes of API Calls Use the Below \n",
    "#Template from PushShift\n",
    "\n",
    "import requests\n",
    "import ujson as json\n",
    "import re\n",
    "import time\n",
    "\n",
    "\n",
    "PUSHSHIFT_REDDIT_URL = \"http://api.pushshift.io/reddit\"\n",
    "\n",
    "def fetchObjects(**kwargs):\n",
    "    # Default params values\n",
    "    params = {\"sort_type\":\"created_utc\",\"sort\":\"asc\",\"size\":1000}\n",
    "    for key,value in kwargs.items():\n",
    "        params[key] = value\n",
    "    print(params)\n",
    "    type = \"comment\"\n",
    "    if 'type' in kwargs and kwargs['type'].lower() == \"submission\":\n",
    "        type = \"submission\"\n",
    "    r = requests.get(PUSHSHIFT_REDDIT_URL + \"/\" + type + \"/search/\",params=params)\n",
    "    if r.status_code == 200:\n",
    "        response = json.loads(r.text)\n",
    "        data = response['data']\n",
    "        sorted_data_by__id = sorted(data, key=lambda x: int(x['id'],36))\n",
    "        return sorted_data_by__id\n",
    "\n",
    "def process(**kwargs):\n",
    "    max_created_utc = 0\n",
    "    max_id = 0\n",
    "    file = open(\"data.json\",\"w\")\n",
    "    while 1:\n",
    "        nothing_processed = True\n",
    "        objects = fetchObjects(**kwargs,after=max_created_utc)\n",
    "        for object in objects:\n",
    "            id = int(object['id'],36)\n",
    "            if id > max_id:\n",
    "                nothing_processed = False\n",
    "                created_utc = object['created_utc']\n",
    "                max_id = id\n",
    "                if created_utc > max_created_utc: \n",
    "                    max_created_utc = created_utc\n",
    "                    #process here\n",
    "        if nothing_processed: return\n",
    "        max_created_utc -= 1\n",
    "        time.sleep(.5)\n",
    "\n",
    "process(subreddit=\"jokes\",type=\"comment\")\n",
    "\"\"\""
   ]
  }
 ],
 "metadata": {
  "kernelspec": {
   "display_name": "Python 3",
   "language": "python",
   "name": "python3"
  },
  "language_info": {
   "codemirror_mode": {
    "name": "ipython",
    "version": 3
   },
   "file_extension": ".py",
   "mimetype": "text/x-python",
   "name": "python",
   "nbconvert_exporter": "python",
   "pygments_lexer": "ipython3",
   "version": "3.7.7"
  }
 },
 "nbformat": 4,
 "nbformat_minor": 4
}
